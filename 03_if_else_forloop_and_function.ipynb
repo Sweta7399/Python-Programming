{
 "cells": [
  {
   "cell_type": "markdown",
   "metadata": {},
   "source": [
    "# 11. Python if...else Statement\n",
    "\n",
    "> **'if'** and **'else'** are used for making decisions. For example, you can think of - if your marks is more than 40% then you pass, else fail. If today is your birthday then it's a special day, else normal day."
   ]
  },
  {
   "cell_type": "markdown",
   "metadata": {},
   "source": [
    "### Python Conditions \n",
    "Python supports the usual logical conditions from mathematics:\n",
    "\n",
    "1. Equals: a == b\n",
    "\n",
    "2. Not Equals: a != b\n",
    "\n",
    "3. Less than: a < b\n",
    "\n",
    "4. Less than or equal to: a <= b\n",
    "\n",
    "5. Greater than: a > b\n",
    "\n",
    "6. Greater than or equal to: a >= b"
   ]
  },
  {
   "cell_type": "code",
   "execution_count": 1,
   "metadata": {},
   "outputs": [
    {
     "data": {
      "text/plain": [
       "False"
      ]
     },
     "execution_count": 1,
     "metadata": {},
     "output_type": "execute_result"
    }
   ],
   "source": [
    "3==2"
   ]
  },
  {
   "cell_type": "code",
   "execution_count": 2,
   "metadata": {},
   "outputs": [
    {
     "data": {
      "text/plain": [
       "True"
      ]
     },
     "execution_count": 2,
     "metadata": {},
     "output_type": "execute_result"
    }
   ],
   "source": [
    "3==3"
   ]
  },
  {
   "cell_type": "code",
   "execution_count": 3,
   "metadata": {},
   "outputs": [
    {
     "data": {
      "text/plain": [
       "True"
      ]
     },
     "execution_count": 3,
     "metadata": {},
     "output_type": "execute_result"
    }
   ],
   "source": [
    "5>=3"
   ]
  },
  {
   "cell_type": "code",
   "execution_count": 4,
   "metadata": {},
   "outputs": [
    {
     "data": {
      "text/plain": [
       "True"
      ]
     },
     "execution_count": 4,
     "metadata": {},
     "output_type": "execute_result"
    }
   ],
   "source": [
    "2<6"
   ]
  },
  {
   "cell_type": "markdown",
   "metadata": {},
   "source": [
    "## 10.1 if statement\n",
    "### Flow Diagram\n",
    "<img src=\"if.png\" alt=\"Drawing\" style=\"width: 250px;\"/> \n",
    "### Syntax"
   ]
  },
  {
   "cell_type": "code",
   "execution_count": 6,
   "metadata": {},
   "outputs": [],
   "source": [
    "#if condition:           \n",
    "   # Statements to execute if\n",
    "   # condition is true"
   ]
  },
  {
   "cell_type": "code",
   "execution_count": 7,
   "metadata": {},
   "outputs": [
    {
     "name": "stdout",
     "output_type": "stream",
     "text": [
      "Pass\n"
     ]
    }
   ],
   "source": [
    "#Example\n",
    "marks=41\n",
    "if marks >= 40:\n",
    "    print(\"Pass\")"
   ]
  },
  {
   "cell_type": "markdown",
   "metadata": {},
   "source": [
    "## 10.2 else statement\n",
    "### Flow diagram\n",
    "<img src=\"else.png\" alt=\"Drawing\" style=\"width: 250px;\"/> \n",
    "### Syntax"
   ]
  },
  {
   "cell_type": "code",
   "execution_count": 9,
   "metadata": {},
   "outputs": [],
   "source": [
    "#if (condition):\n",
    "    # Executes this block if\n",
    "    # condition is true\n",
    "#else:\n",
    "    # Executes this block if\n",
    "    # condition is false"
   ]
  },
  {
   "cell_type": "code",
   "execution_count": 10,
   "metadata": {},
   "outputs": [
    {
     "name": "stdout",
     "output_type": "stream",
     "text": [
      "Fail\n"
     ]
    }
   ],
   "source": [
    "# Example\n",
    "marks=39\n",
    "if marks >= 40:\n",
    "    print(\"Pass\")\n",
    "else:\n",
    "    print(\"Fail\")"
   ]
  },
  {
   "cell_type": "markdown",
   "metadata": {},
   "source": [
    "### Assignment\n",
    "1. Comparing Two Number "
   ]
  },
  {
   "cell_type": "code",
   "execution_count": 13,
   "metadata": {},
   "outputs": [
    {
     "name": "stdout",
     "output_type": "stream",
     "text": [
      "num2 is greater than num1 : 4\n"
     ]
    }
   ],
   "source": [
    "num1=3\n",
    "num2=4\n",
    "\n",
    "if num1 > num2:\n",
    "    print(\"num1 is greater than num2 : {}\".format(num1))\n",
    "else:\n",
    "    print(\"num2 is greater than num1 : {}\".format(num2))\n"
   ]
  },
  {
   "cell_type": "markdown",
   "metadata": {},
   "source": [
    "## Exercises\n",
    "2. Find the smallest number between two numbers ? "
   ]
  },
  {
   "cell_type": "markdown",
   "metadata": {},
   "source": [
    "## 10.3 elif Statement\n",
    "\n",
    "> The elif statement allows you to check multiple expressions for TRUE and execute a block of code as soon as one of the conditions evaluates to TRUE.\n",
    "\n",
    "### Syntax"
   ]
  },
  {
   "cell_type": "code",
   "execution_count": null,
   "metadata": {},
   "outputs": [],
   "source": [
    "# if condition1:\n",
    "#    statement(s)\n",
    "# elif condition2:\n",
    "#    statement(s)\n",
    "# elif condition3:\n",
    "#    statement(s)\n",
    "# else:\n",
    "#    statement(s)"
   ]
  },
  {
   "cell_type": "markdown",
   "metadata": {},
   "source": [
    "### Assignment\n",
    "2. Comparing Two Number "
   ]
  },
  {
   "cell_type": "code",
   "execution_count": 17,
   "metadata": {},
   "outputs": [
    {
     "name": "stdout",
     "output_type": "stream",
     "text": [
      "2nd Division\n"
     ]
    }
   ],
   "source": [
    "# Example\n",
    "marks=41\n",
    "if marks >= 60:\n",
    "    print(\"1st Division\")\n",
    "elif marks >=40:\n",
    "    print(\"2nd Division\")\n",
    "else:\n",
    "    print(\"Fail\")"
   ]
  },
  {
   "cell_type": "markdown",
   "metadata": {},
   "source": [
    "## Exercises\n",
    "3. Find the smallest number between three numbers ? "
   ]
  },
  {
   "cell_type": "markdown",
   "metadata": {},
   "source": [
    "## 11. Loop in Python\n",
    "\n",
    ">A loop is a used for iterating over a set of statements repeatedly. In Python we have three types of loops \n",
    "1. for \n",
    "2. while and \n",
    "3. do-while."
   ]
  },
  {
   "cell_type": "markdown",
   "metadata": {},
   "source": [
    "## 11.1 for loop\n",
    "\n",
    "* Executes a sequence of statements multiple times.\n",
    "* A for loop is used for iterating over a sequence (a list, a tuple, a dictionary, a set, or a string)Example"
   ]
  },
  {
   "cell_type": "code",
   "execution_count": 2,
   "metadata": {},
   "outputs": [
    {
     "name": "stdout",
     "output_type": "stream",
     "text": [
      "Maths\n",
      "Computer\n",
      "Science\n",
      "English\n",
      "Hindi\n"
     ]
    }
   ],
   "source": [
    "## Looping Through a List\n",
    "subjects=['Maths','Computer','Science','English','Hindi']\n",
    "for subject in subjects:\n",
    "    print(subject)"
   ]
  },
  {
   "cell_type": "code",
   "execution_count": 3,
   "metadata": {},
   "outputs": [
    {
     "name": "stdout",
     "output_type": "stream",
     "text": [
      "Z\n",
      "o\n",
      "r\n",
      "b\n",
      "a\n"
     ]
    }
   ],
   "source": [
    "# Looping Through a string \n",
    "for ch in \"Zorba\":\n",
    "    print(ch)"
   ]
  },
  {
   "cell_type": "code",
   "execution_count": 11,
   "metadata": {},
   "outputs": [
    {
     "name": "stdout",
     "output_type": "stream",
     "text": [
      "50\n",
      "60\n",
      "80\n"
     ]
    }
   ],
   "source": [
    "# Looping Through a Dictionary\n",
    "marks={'maths':50,'science':60,'computer':80}\n",
    "for mark in marks:\n",
    "    print(marks[mark])"
   ]
  },
  {
   "cell_type": "markdown",
   "metadata": {},
   "source": [
    "### The range() Function\n",
    "\n",
    "> The range() function returns a sequence of numbers, starting from 0 by default, and increments by 1 (by default), and ends at a specified number.\n",
    "\n",
    "**for(start(0 by default), stop, number_of_step(1 by default)**"
   ]
  },
  {
   "cell_type": "code",
   "execution_count": 13,
   "metadata": {},
   "outputs": [
    {
     "name": "stdout",
     "output_type": "stream",
     "text": [
      "0\n",
      "1\n",
      "2\n",
      "3\n",
      "4\n"
     ]
    }
   ],
   "source": [
    "for i in range(5):\n",
    "    print(i)"
   ]
  },
  {
   "cell_type": "code",
   "execution_count": 14,
   "metadata": {},
   "outputs": [
    {
     "name": "stdout",
     "output_type": "stream",
     "text": [
      "2\n",
      "3\n",
      "4\n"
     ]
    }
   ],
   "source": [
    "for i in range(2,5):\n",
    "    print(i)"
   ]
  },
  {
   "cell_type": "code",
   "execution_count": 16,
   "metadata": {},
   "outputs": [
    {
     "name": "stdout",
     "output_type": "stream",
     "text": [
      "1\n",
      "3\n",
      "5\n"
     ]
    }
   ],
   "source": [
    "for i in range(1,7,2):\n",
    "    print(i)"
   ]
  },
  {
   "cell_type": "markdown",
   "metadata": {},
   "source": [
    "## Nested For loop in Python\n",
    "When a for loop is present inside another for loop then it is called a nested for loop. \n",
    "\n",
    "### Example"
   ]
  },
  {
   "cell_type": "code",
   "execution_count": 21,
   "metadata": {},
   "outputs": [
    {
     "name": "stdout",
     "output_type": "stream",
     "text": [
      "0 -> 1\n",
      "0 -> 2\n",
      "0 -> 3\n",
      "0 -> 4\n",
      "1 -> 1\n",
      "1 -> 2\n",
      "1 -> 3\n",
      "1 -> 4\n"
     ]
    }
   ],
   "source": [
    "for num1 in range(2):\n",
    "    for num2 in range(1, 5):\n",
    "        print(num1, \"->\", num2)"
   ]
  },
  {
   "cell_type": "markdown",
   "metadata": {},
   "source": [
    "## Assignment\n",
    "3. We are going to print odd and even numbers between 1 to 10."
   ]
  },
  {
   "cell_type": "code",
   "execution_count": 19,
   "metadata": {},
   "outputs": [
    {
     "name": "stdout",
     "output_type": "stream",
     "text": [
      "0 1 2 3 4 5 6 7 8 9 "
     ]
    }
   ],
   "source": [
    "for i in range(10):\n",
    "    if i%2==1:\n",
    "        print(i,end=\" \")\n",
    "    else:\n",
    "        print(i,end=\" \")"
   ]
  },
  {
   "cell_type": "markdown",
   "metadata": {},
   "source": [
    "## 11.2 Python While Loop\n",
    "> While loop is used to iterate over a block of code repeatedly until a given condition returns false.\n",
    "\n",
    "#### Syntax"
   ]
  },
  {
   "cell_type": "code",
   "execution_count": 22,
   "metadata": {},
   "outputs": [],
   "source": [
    "# while condition:\n",
    "#     body_of_while"
   ]
  },
  {
   "cell_type": "markdown",
   "metadata": {},
   "source": [
    "### Flow of while loop\n",
    "\n",
    "    1. First the given condition is checked, if the condition returns false, the loop is terminated and the control jumps to the next statement in the program after the loop.\n",
    "    2. If the condition returns true, the set of statements inside while loop are executed and then the control jumps to the beginning of the loop for next iteration."
   ]
  },
  {
   "cell_type": "code",
   "execution_count": 31,
   "metadata": {},
   "outputs": [
    {
     "name": "stdout",
     "output_type": "stream",
     "text": [
      "1 2 3 4 "
     ]
    }
   ],
   "source": [
    "n=1\n",
    "while(n < 5): \n",
    "    print(n,end=\" \")\n",
    "    n+=1"
   ]
  },
  {
   "cell_type": "code",
   "execution_count": 30,
   "metadata": {},
   "outputs": [
    {
     "name": "stdout",
     "output_type": "stream",
     "text": [
      "1 2 3 4 5 "
     ]
    }
   ],
   "source": [
    "T=True\n",
    "num=0\n",
    "while(T):\n",
    "    num+=1\n",
    "    print(num,end=\" \")\n",
    "    if num==5:\n",
    "        T=False"
   ]
  },
  {
   "cell_type": "markdown",
   "metadata": {},
   "source": [
    "# 12. Python Function \n",
    "* A function is a group of related statements that performs a specific task.\n",
    "* Functions help break our program into smaller modular. As our program grows larger and larger, functions make it more or-ganized and manageable.\n",
    "* It avoids repetition and makes the code reusable.\n",
    "* You can pass data, known as parameters, into a function.\n",
    "* A function can return data as a result.\n",
    "        \n",
    "#### Syntax\n",
    "> Keyword **def** that marks the start of the function.\n",
    "<br> **Parameters** (arguments) through which we pass values to a function. They are optional."
   ]
  },
  {
   "cell_type": "code",
   "execution_count": null,
   "metadata": {},
   "outputs": [],
   "source": [
    "def function_name(parameters):\n",
    "    \"\"\"........set of \n",
    "    instruction.....\"\"\"\n",
    "    statement(s)"
   ]
  },
  {
   "cell_type": "markdown",
   "metadata": {},
   "source": [
    "### Example"
   ]
  },
  {
   "cell_type": "code",
   "execution_count": 2,
   "metadata": {},
   "outputs": [
    {
     "name": "stdout",
     "output_type": "stream",
     "text": [
      "Welcome to Zorba Consulting\n"
     ]
    }
   ],
   "source": [
    "def display():\n",
    "    print(\"Welcome to Zorba Consulting\")\n",
    "\n",
    "display()"
   ]
  },
  {
   "cell_type": "code",
   "execution_count": 6,
   "metadata": {},
   "outputs": [
    {
     "name": "stdout",
     "output_type": "stream",
     "text": [
      "Hello, John\n"
     ]
    }
   ],
   "source": [
    "def display1(name):\n",
    "    print(\"Hello, {}\".format(name))\n",
    "display1(\"John\")"
   ]
  },
  {
   "cell_type": "code",
   "execution_count": 3,
   "metadata": {
    "scrolled": true
   },
   "outputs": [
    {
     "name": "stdout",
     "output_type": "stream",
     "text": [
      "Sum of a and b : 8\n"
     ]
    }
   ],
   "source": [
    "## Adding two numbwer using parameter\n",
    "\n",
    "def addition(a,b):\n",
    "    print(\"Sum of a and b :\",a+b)\n",
    "a=5\n",
    "b=3\n",
    "addition(a,b)"
   ]
  },
  {
   "cell_type": "code",
   "execution_count": 7,
   "metadata": {},
   "outputs": [
    {
     "name": "stdout",
     "output_type": "stream",
     "text": [
      "Addition : 10\n",
      "subtraction : 6\n",
      "Division : 4.0\n",
      "Multiplication : 16\n"
     ]
    }
   ],
   "source": [
    "## Multiple Functions\n",
    "def add(a,b):\n",
    "    print(\"Addition :\",a+b)\n",
    "    \n",
    "def sub(a,b):\n",
    "    print(\"subtraction :\",a-b)\n",
    "    \n",
    "def divide(a,b):\n",
    "    print(\"Division :\",a/b)\n",
    "    \n",
    "def mul(a,b):\n",
    "    print(\"Multiplication :\",a*b)\n",
    "    \n",
    "A=8\n",
    "B=2\n",
    "add(A,B)\n",
    "sub(A,B)\n",
    "divide(A,B)\n",
    "mul(A,B)"
   ]
  },
  {
   "cell_type": "code",
   "execution_count": 13,
   "metadata": {},
   "outputs": [
    {
     "name": "stdout",
     "output_type": "stream",
     "text": [
      "Addition : 15\n",
      "subtraction : 5\n",
      "Division : 2.0\n",
      "Multiplication : 50\n"
     ]
    }
   ],
   "source": [
    "## nested funtions\n",
    "def calc(a,b):\n",
    "    def add():\n",
    "        print(\"Addition :\",a+b)\n",
    "        \n",
    "    def sub():\n",
    "        print(\"subtraction :\",a-b)\n",
    "        \n",
    "    def divide():\n",
    "        print(\"Division :\",a/b)\n",
    "        \n",
    "    def mul():\n",
    "        print(\"Multiplication :\",a*b)\n",
    "\n",
    "    add()\n",
    "    sub()\n",
    "    divide()\n",
    "    mul()\n",
    "A=10\n",
    "B=5\n",
    "calc(A,B)"
   ]
  },
  {
   "cell_type": "markdown",
   "metadata": {},
   "source": [
    "## Assignment"
   ]
  },
  {
   "cell_type": "markdown",
   "metadata": {},
   "source": [
    "###  4. Swap two numbers ."
   ]
  },
  {
   "cell_type": "code",
   "execution_count": 14,
   "metadata": {},
   "outputs": [
    {
     "name": "stdout",
     "output_type": "stream",
     "text": [
      "a :4, b :5\n"
     ]
    }
   ],
   "source": [
    "def swap(a,b):\n",
    "    temp=a\n",
    "    a=b\n",
    "    b=temp\n",
    "    print(\"a :{}, b :{}\".format(a,b))\n",
    "a=5\n",
    "b=4\n",
    "swap(a,b)"
   ]
  },
  {
   "cell_type": "markdown",
   "metadata": {},
   "source": [
    "### Or we can solve"
   ]
  },
  {
   "cell_type": "code",
   "execution_count": 16,
   "metadata": {},
   "outputs": [
    {
     "name": "stdout",
     "output_type": "stream",
     "text": [
      "before swap a :6 and b :4\n",
      "After swap a :4 and b :6\n"
     ]
    }
   ],
   "source": [
    "a=6\n",
    "b=4\n",
    "print(\"before swap a :{} and b :{}\".format(a,b))\n",
    "a,b=b,a\n",
    "print(\"After swap a :{} and b :{}\".format(a,b))\n"
   ]
  },
  {
   "cell_type": "markdown",
   "metadata": {},
   "source": [
    "### 5.  Find the minimun and miximum value from list"
   ]
  },
  {
   "cell_type": "code",
   "execution_count": 21,
   "metadata": {},
   "outputs": [
    {
     "name": "stdout",
     "output_type": "stream",
     "text": [
      "Maximum value in list1 is :9\n",
      "Manimum value in list1 is :-2\n"
     ]
    }
   ],
   "source": [
    "def maximum(list1):\n",
    "    temp=list1[0]\n",
    "    for value in list1:\n",
    "        if temp < value:\n",
    "            temp=value\n",
    "    print(\"Maximum value in list1 is :{}\".format(temp))\n",
    "    \n",
    "def minimum(list1):\n",
    "    temp=list1[0]\n",
    "    for value in list1:\n",
    "        if temp > value:\n",
    "            temp=value\n",
    "    print(\"Manimum value in list1 is :{}\".format(temp))\n",
    "    \n",
    "array=[1,5,2,7,3,9,-2]\n",
    "maximum(array)\n",
    "minimum(array)"
   ]
  },
  {
   "cell_type": "markdown",
   "metadata": {},
   "source": [
    "### Or we can using build-in Python function "
   ]
  },
  {
   "cell_type": "code",
   "execution_count": 23,
   "metadata": {},
   "outputs": [
    {
     "name": "stdout",
     "output_type": "stream",
     "text": [
      "minimun value : -2\n",
      "maximun value : 9\n"
     ]
    }
   ],
   "source": [
    "print(\"minimun value :\",min(array))\n",
    "print(\"maximun value :\",max(array))"
   ]
  },
  {
   "cell_type": "markdown",
   "metadata": {},
   "source": [
    "### 6. Sort the list "
   ]
  },
  {
   "cell_type": "code",
   "execution_count": 25,
   "metadata": {},
   "outputs": [
    {
     "name": "stdout",
     "output_type": "stream",
     "text": [
      "sorted array : [-2, 1, 2, 3, 5, 7, 9]\n"
     ]
    }
   ],
   "source": [
    "def Sorted_list(array):\n",
    "    \n",
    "    # run loops two times: one for walking throught the array \n",
    "    # and the other for comparison\n",
    "    for i in range(len(array)):\n",
    "        for j in range(0, len(array) - i - 1):\n",
    "\n",
    "            # To sort in descending order, change > to < in this line.\n",
    "            if array[j] > array[j + 1]:\n",
    "                \n",
    "                # swap if greater is at the rear position\n",
    "                (array[j], array[j + 1]) = (array[j + 1], array[j])\n",
    "    print(\"sorted array :\",array)\n",
    " \n",
    "array=[1,5,2,7,3,9,-2]\n",
    "Sorted_list(array)"
   ]
  },
  {
   "cell_type": "markdown",
   "metadata": {},
   "source": [
    "### For same task we can used build-in python function"
   ]
  },
  {
   "cell_type": "code",
   "execution_count": 26,
   "metadata": {},
   "outputs": [
    {
     "name": "stdout",
     "output_type": "stream",
     "text": [
      "[-2, 1, 2, 3, 5, 7, 9]\n"
     ]
    }
   ],
   "source": [
    "print(sorted(array))"
   ]
  },
  {
   "cell_type": "markdown",
   "metadata": {},
   "source": [
    "## 12.1 Most important built-in Python functions\n",
    "#### type() : Returns the type of an object."
   ]
  },
  {
   "cell_type": "code",
   "execution_count": 38,
   "metadata": {},
   "outputs": [
    {
     "name": "stdout",
     "output_type": "stream",
     "text": [
      "<class 'int'>\n",
      "<class 'str'>\n"
     ]
    }
   ],
   "source": [
    "a=5\n",
    "b=\"Zorba\"\n",
    "print(type(a))\n",
    "print(type(b))"
   ]
  },
  {
   "cell_type": "markdown",
   "metadata": {},
   "source": [
    "### 12.1.1     len() \n",
    "> Returns the length of an object.\n",
    "   "
   ]
  },
  {
   "cell_type": "code",
   "execution_count": 27,
   "metadata": {},
   "outputs": [
    {
     "data": {
      "text/plain": [
       "16"
      ]
     },
     "execution_count": 27,
     "metadata": {},
     "output_type": "execute_result"
    }
   ],
   "source": [
    "a = 'Zorba Consulting'\n",
    "len(a)"
   ]
  },
  {
   "cell_type": "markdown",
   "metadata": {},
   "source": [
    "### 12.1.2 abs() \n",
    "> Returns the absolute value of a number."
   ]
  },
  {
   "cell_type": "code",
   "execution_count": 29,
   "metadata": {},
   "outputs": [
    {
     "name": "stdout",
     "output_type": "stream",
     "text": [
      "-2\n",
      "2\n"
     ]
    }
   ],
   "source": [
    "a = 3\n",
    "b = 5\n",
    "print(a-b)\n",
    "print(abs(a-b))"
   ]
  },
  {
   "cell_type": "markdown",
   "metadata": {},
   "source": [
    "### 12.1.3  round() \n",
    ">Rounds a numbers.\n",
    " "
   ]
  },
  {
   "cell_type": "code",
   "execution_count": 33,
   "metadata": {},
   "outputs": [
    {
     "name": "stdout",
     "output_type": "stream",
     "text": [
      "1.6666666666666667\n",
      "2\n",
      "1.67\n"
     ]
    }
   ],
   "source": [
    "print(b/a)\n",
    "print(round(b/a))\n",
    "print(round(b/a,2))"
   ]
  },
  {
   "cell_type": "markdown",
   "metadata": {},
   "source": [
    "### 12.1.4    min()   \n",
    ">Returns the smallest item.\n"
   ]
  },
  {
   "cell_type": "code",
   "execution_count": 34,
   "metadata": {},
   "outputs": [
    {
     "name": "stdout",
     "output_type": "stream",
     "text": [
      "-8\n"
     ]
    }
   ],
   "source": [
    "list1=[1,2,5,-8,9]\n",
    "print(min(list1))"
   ]
  },
  {
   "cell_type": "markdown",
   "metadata": {},
   "source": [
    "### 12.1.5    max()\n",
    "> Returns the largest item.\n"
   ]
  },
  {
   "cell_type": "code",
   "execution_count": 35,
   "metadata": {},
   "outputs": [
    {
     "name": "stdout",
     "output_type": "stream",
     "text": [
      "12\n"
     ]
    }
   ],
   "source": [
    "list2=[1, 5, 8, 12, -8]\n",
    "print(max(list2))"
   ]
  },
  {
   "cell_type": "markdown",
   "metadata": {},
   "source": [
    "### 12.1.6 sorted()  Returns a sorted list."
   ]
  },
  {
   "cell_type": "code",
   "execution_count": 36,
   "metadata": {},
   "outputs": [
    {
     "name": "stdout",
     "output_type": "stream",
     "text": [
      "[-8, 1, 5, 8, 12]\n"
     ]
    }
   ],
   "source": [
    "list2=[1, 5, 8, 12, -8]\n",
    "print(sorted(list2))"
   ]
  },
  {
   "cell_type": "markdown",
   "metadata": {},
   "source": [
    "### 12.1.7  sum() Sums the items of an iterator."
   ]
  },
  {
   "cell_type": "code",
   "execution_count": 1,
   "metadata": {},
   "outputs": [
    {
     "name": "stdout",
     "output_type": "stream",
     "text": [
      "18\n"
     ]
    }
   ],
   "source": [
    "list2=[1, 5, 8, 12, -8]\n",
    "print(sum(list2))"
   ]
  }
 ],
 "metadata": {
  "kernelspec": {
   "display_name": "Python 3",
   "language": "python",
   "name": "python3"
  },
  "language_info": {
   "codemirror_mode": {
    "name": "ipython",
    "version": 3
   },
   "file_extension": ".py",
   "mimetype": "text/x-python",
   "name": "python",
   "nbconvert_exporter": "python",
   "pygments_lexer": "ipython3",
   "version": "3.7.4"
  }
 },
 "nbformat": 4,
 "nbformat_minor": 4
}

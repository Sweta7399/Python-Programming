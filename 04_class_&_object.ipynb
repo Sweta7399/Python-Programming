{
 "cells": [
  {
   "cell_type": "markdown",
   "metadata": {},
   "source": [
    "## Object Oriented Programming (OOP) \n",
    "1. One of the popular approaches to solve a programming problem is by creating objects. This is known as Object Oriented programming(OOP).\n",
    "2. The concepts of OOP in python focuses on creating reusable code."
   ]
  },
  {
   "cell_type": "markdown",
   "metadata": {},
   "source": [
    "## Class\n",
    "* A class is a blueprint for the object.\n",
    "* We can think of class as sketch of a car. \n",
    "* It contains all the details about the model name, colors, speed, gear etc. \n",
    "<br><br>\n",
    "#### Example:\n",
    "<br><br>\n",
    "<img src=\"images/car.jpg\" alt=\"Drawing\" align='left' style=\"width: 250px;\"/> \n",
    "<br>\n",
    "<br>\n",
    "\n"
   ]
  },
  {
   "cell_type": "code",
   "execution_count": null,
   "metadata": {},
   "outputs": [],
   "source": [
    "class car:\n",
    "    pass"
   ]
  },
  {
   "cell_type": "markdown",
   "metadata": {},
   "source": [
    "* We use the **class** keyword to define an empty class car."
   ]
  },
  {
   "cell_type": "markdown",
   "metadata": {},
   "source": [
    "## Object\n",
    "\n",
    "* An object(instance) is an instantiation of a class.\n",
    "* When class is defined, only the description for the object is defined.\n",
    "\n",
    "#### Example :\n",
    "<br><br>\n",
    "<img src=\"images/images.jpg\" alt=\"Drawing\" align='left' style=\"width: 250px;\"/> "
   ]
  },
  {
   "cell_type": "code",
   "execution_count": null,
   "metadata": {},
   "outputs": [],
   "source": [
    "Hyundai_Creta = car()"
   ]
  },
  {
   "cell_type": "markdown",
   "metadata": {},
   "source": [
    "### Example :"
   ]
  },
  {
   "cell_type": "code",
   "execution_count": 10,
   "metadata": {},
   "outputs": [
    {
     "name": "stdout",
     "output_type": "stream",
     "text": [
      "Name :  John\n",
      "Roll no. :  12\n"
     ]
    }
   ],
   "source": [
    "class Person:\n",
    "    def __init__(self, name, roll_no):\n",
    "        self.name = name\n",
    "        self.roll_no = roll_no\n",
    "\n",
    "p1 = Person(\"John\", 12)\n",
    "\n",
    "print(\"Name : \", p1.name)\n",
    "print(\"Roll no. : \", p1.roll_no)"
   ]
  },
  {
   "cell_type": "markdown",
   "metadata": {},
   "source": [
    "### The __init__() Function\n",
    "\n",
    "* The \\__init__() function is called automatically every time the class is being used to create a new object.\n",
    "* The \\__init__()  method is similar to constructors in C++ and Java"
   ]
  },
  {
   "cell_type": "markdown",
   "metadata": {},
   "source": [
    "### self \n",
    "> self in Python is equivalent to this in C++ or Java."
   ]
  },
  {
   "cell_type": "markdown",
   "metadata": {},
   "source": [
    "## Object Methods\n",
    "Objects can also contain methods. Methods in objects are functions that belong to the object.\n",
    "### Example :"
   ]
  },
  {
   "cell_type": "code",
   "execution_count": 6,
   "metadata": {},
   "outputs": [
    {
     "name": "stdout",
     "output_type": "stream",
     "text": [
      "\n",
      " Car Speed: 100\n",
      "\n",
      " Car color: red\n"
     ]
    }
   ],
   "source": [
    "class car:\n",
    "    def speed(self, sp):\n",
    "        print(\"\\n Car Speed: {}\".format(sp))\n",
    "    def colors(self,color):\n",
    "        print(\"\\n Car color: {}\".format(color))\n",
    "    \n",
    "# instantiate the object \n",
    "Hyundai_Creta = car()\n",
    "Hyundai_Creta.speed(100)\n",
    "Hyundai_Creta.colors('red')"
   ]
  },
  {
   "cell_type": "markdown",
   "metadata": {},
   "source": [
    "### Inheritance\n",
    "* The method of inheriting the properties of parent class into a child class is known as inheritance.\n",
    "* It is an OOP concept. \n",
    "<br><br>\n",
    "* Following are the benefits of inheritance.\n",
    "    * We do not have to write the same code again and again, we can just inherit the properties we need in a child class.\n",
    "\n",
    "    * It represents a real world relationship between parent class and child class.\n",
    "\n",
    "    * It is transitive in nature. If a child class inherits properties from a parent class, then all other sub-classes of the child class will also inherit the properties of the parent class."
   ]
  },
  {
   "cell_type": "code",
   "execution_count": 4,
   "metadata": {},
   "outputs": [
    {
     "name": "stdout",
     "output_type": "stream",
     "text": [
      "Parent Class\n",
      "Child Class \n"
     ]
    }
   ],
   "source": [
    "class Parent:\n",
    "     def func1(self):\n",
    "          print(\"Parent Class\")\n",
    "class Child(Parent):\n",
    "     def func2(self):\n",
    "          print(\"Child Class \")\n",
    "ob = Child()\n",
    "ob.func1()\n",
    "ob.func2()"
   ]
  },
  {
   "cell_type": "markdown",
   "metadata": {},
   "source": [
    "### Types Of Inheritance\n",
    "\n",
    "    1. Single\n",
    "    2. Multiple\n",
    "    3. Multilevel\n",
    "    4. Heirarchical"
   ]
  },
  {
   "cell_type": "markdown",
   "metadata": {},
   "source": [
    "### Single Inheritance\n",
    "> When a child class inherits only a single parent class."
   ]
  },
  {
   "cell_type": "code",
   "execution_count": 5,
   "metadata": {},
   "outputs": [
    {
     "name": "stdout",
     "output_type": "stream",
     "text": [
      "Parent Class\n",
      "Child Class \n"
     ]
    }
   ],
   "source": [
    "class Parent:\n",
    "     def func1(self):\n",
    "          print(\"Parent Class\")\n",
    "class Child(Parent):\n",
    "     def func2(self):\n",
    "          print(\"Child Class \")\n",
    "ob = Child()\n",
    "ob.func1()\n",
    "ob.func2()"
   ]
  },
  {
   "cell_type": "markdown",
   "metadata": {},
   "source": [
    "### Multiple Inheritance\n",
    "> When a child class inherits from more than one parent class."
   ]
  },
  {
   "cell_type": "code",
   "execution_count": 8,
   "metadata": {},
   "outputs": [
    {
     "name": "stdout",
     "output_type": "stream",
     "text": [
      "Parent1 Class\n",
      "Parent2 Class\n",
      "Child Class \n"
     ]
    }
   ],
   "source": [
    "class Parent1:\n",
    "     def func1(self):\n",
    "          print(\"Parent1 Class\")\n",
    "class Parent2:\n",
    "     def func2(self):\n",
    "          print(\"Parent2 Class\")\n",
    "class Child(Parent1,Parent2):\n",
    "     def func3(self):\n",
    "          print(\"Child Class \")\n",
    "ob = Child()\n",
    "ob.func1()\n",
    "ob.func2()\n",
    "ob.func3()"
   ]
  },
  {
   "cell_type": "markdown",
   "metadata": {},
   "source": [
    "### Multilevel Inheritance\n",
    "> When a child class becomes a parent class for another child class."
   ]
  },
  {
   "cell_type": "code",
   "execution_count": 11,
   "metadata": {},
   "outputs": [
    {
     "name": "stdout",
     "output_type": "stream",
     "text": [
      "Parent Class\n",
      "Child1 Class\n",
      "Child2 Class \n"
     ]
    }
   ],
   "source": [
    "class Parent:\n",
    "     def func1(self):\n",
    "          print(\"Parent Class\")\n",
    "class Child1(Parent):\n",
    "     def func2(self):\n",
    "          print(\"Child1 Class\")\n",
    "class Child2(Child1):\n",
    "     def func3(self):\n",
    "          print(\"Child2 Class \")\n",
    "ob = Child2()\n",
    "ob.func1()\n",
    "ob.func2()\n",
    "ob.func3()"
   ]
  },
  {
   "cell_type": "markdown",
   "metadata": {},
   "source": [
    "### Heirarchical Inheritance\n",
    "> Hierarchical inheritance involves multiple inheritance from the same base or parent class."
   ]
  },
  {
   "cell_type": "code",
   "execution_count": 13,
   "metadata": {},
   "outputs": [
    {
     "name": "stdout",
     "output_type": "stream",
     "text": [
      "Parent Class\n",
      "Parent Class\n"
     ]
    }
   ],
   "source": [
    "class Parent:\n",
    "      def func1(self):\n",
    "          print(\"Parent Class\")\n",
    "class Child1(Parent):\n",
    "      def func2(self):\n",
    "          print(\"Child1 Class\")\n",
    "class Child2(Parent):\n",
    "      def func3(self):\n",
    "          print(\"Child2 class\")\n",
    "\n",
    "ob = Child1()\n",
    "ob1 = Child2()\n",
    "ob.func1()\n",
    "ob.func1()"
   ]
  }
 ],
 "metadata": {
  "kernelspec": {
   "display_name": "Python 3",
   "language": "python",
   "name": "python3"
  },
  "language_info": {
   "codemirror_mode": {
    "name": "ipython",
    "version": 3
   },
   "file_extension": ".py",
   "mimetype": "text/x-python",
   "name": "python",
   "nbconvert_exporter": "python",
   "pygments_lexer": "ipython3",
   "version": "3.7.4"
  }
 },
 "nbformat": 4,
 "nbformat_minor": 4
}

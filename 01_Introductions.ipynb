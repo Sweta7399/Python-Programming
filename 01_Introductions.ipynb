{
 "cells": [
  {
   "cell_type": "markdown",
   "metadata": {},
   "source": [
    "# 2. About Course\n",
    "> This course is aimed at implementation of python in real world rather than only understanding the syntax of the languange. We offer to provide the listed topics, as well as for you to understand how to work with unencountered concepts in python."
   ]
  },
  {
   "cell_type": "markdown",
   "metadata": {},
   "source": [
    "# 3. Python \n",
    "\n",
    "* Python is an interpreted, object-oriented, high-level and programming language.\n",
    "* Python is a popular general-purpose programming language that can be used for a wide variety of applications.\n",
    "* It was created by Guido van Rossum, and released in 1991."
   ]
  },
  {
   "cell_type": "markdown",
   "metadata": {},
   "source": [
    "## 3.1 \"Hello world\" in Python!\n",
    "> Just to give you a little excitement about Python, I'm going to give you a small conventional Python Hello World program."
   ]
  },
  {
   "cell_type": "code",
   "execution_count": 1,
   "metadata": {},
   "outputs": [
    {
     "name": "stdout",
     "output_type": "stream",
     "text": [
      "Hello world!\n"
     ]
    }
   ],
   "source": [
    "print(\"Hello world!\")"
   ]
  },
  {
   "cell_type": "markdown",
   "metadata": {},
   "source": [
    "# 4. Why Learn Python?\n",
    "\n",
    "* Python is a general-purpose language, which means it can be used to build just about anything, which will be made easy with the right tools/libraries.\n",
    "* Professionally, Python is great for backend web development, data analysis, artificial intelligence, and scientific computing. Many developers have also used Python to build productivity tools, games, and desktop apps, so there are plenty of resources to help you learn how to do those as well.\n",
    "\n",
    "## 4.1 Community\n",
    "* 5th Largest StackOverflow Community\n",
    "* 3rd Largest Meetup Community\n",
    "* 4th Most-Used Language at GitHub\n",
    "\n",
    "## 4.2 Career Opportunities\n",
    "\n",
    "* Salary Range : 43-135k\n",
    "* Average salary: $ 94,053\n",
    "\n",
    "## 4.3 Popular site build with Python\n",
    "* Google \n",
    "* Pinterest\n",
    "* Instragram\n",
    "* Dropbox \n",
    "* Youtube ,etc"
   ]
  },
  {
   "cell_type": "markdown",
   "metadata": {},
   "source": [
    "# 5. Real-world Applications of Python\n",
    "\n",
    "* Web Development\n",
    "* Desktop GUI Applications\n",
    "* Artificial Intelligence and Machine Learning \n",
    "* Software Development\n",
    "* Web Scraping Applications"
   ]
  },
  {
   "cell_type": "markdown",
   "metadata": {},
   "source": [
    "# 6. Comparing Python to Other Languages Syntax"
   ]
  },
  {
   "cell_type": "markdown",
   "metadata": {},
   "source": [
    "## 6.1 Hello world! in Cpp\n",
    "\n",
    "#include< iostream>\n",
    "\n",
    "int main() {\n",
    "\n",
    "    std::cout << \"Hello World!\";\n",
    "    \n",
    "    return 0;\n",
    "}"
   ]
  },
  {
   "cell_type": "markdown",
   "metadata": {},
   "source": [
    "## 6.2 Hello world! in Java\n",
    "\n",
    "public class Simple{\n",
    "\n",
    "    public static void main(String args[]){\n",
    "    \n",
    "    System.out.println(\"Hello World!\");\n",
    "}}"
   ]
  },
  {
   "cell_type": "markdown",
   "metadata": {},
   "source": [
    "## 6.3 Hello World in Python\n",
    "print(\"Hello world!\")"
   ]
  },
  {
   "cell_type": "markdown",
   "metadata": {},
   "source": [
    "# 7. Installation and configuration of anaconda jupyter notebook\n",
    "\n",
    "official website- https://test-jupyter.readthedocs.io/en/latest/install.html\n",
    "\n",
    "link- https://www.youtube.com/watch?v=uOwCiZKj2rg"
   ]
  }
 ],
 "metadata": {
  "kernelspec": {
   "display_name": "Python 3",
   "language": "python",
   "name": "python3"
  },
  "language_info": {
   "codemirror_mode": {
    "name": "ipython",
    "version": 3
   },
   "file_extension": ".py",
   "mimetype": "text/x-python",
   "name": "python",
   "nbconvert_exporter": "python",
   "pygments_lexer": "ipython3",
   "version": "3.7.4"
  }
 },
 "nbformat": 4,
 "nbformat_minor": 4
}

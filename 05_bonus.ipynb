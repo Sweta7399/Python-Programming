{
 "cells": [
  {
   "cell_type": "markdown",
   "metadata": {},
   "source": [
    "# Exercise\n",
    "1. Python program to find sum and average of two numbers.\n",
    "2. Python program to calculate simple interest.\n",
    "3. Python program to find quotient and remainder.\n",
    "4. Python program to find largest number among three numbers.\n",
    "5. Python program to find area and perimeter of circle.\n",
    "6. Python program to find area of a rectangle.\n",
    "7. Python program to calculate HCF of two numbers.\n",
    "8. Python program to print all VOWEL and CONSONANT characters separately\n",
    "9. Python program to count upper case, lower case and special characters in a string.\n",
    "10. Python program to reverse a number(Example 12345 to 54321)\n",
    "11. Python program to count digits in a numbers.\n",
    "12. Python program to check number is palindrome or not.\n",
    "13. Write a Python program that accepts a sentence and calculate the number of letters and digits.\n",
    "14. Python program to print all prime numbers from 1 to N.\n",
    "15. Python program to print EVEN numbers from 1 to N using while loop.\n",
    "16. Python program to print all leap years from 1 to N.\n",
    "17. Python program to check number is perfect square or not.\n",
    "18. Python program to find factorial of a number.\n",
    "19. Python program to find SUM and AVERAGE of two integer Numbers using User Define Functions.\n",
    "20. Python program to swap two strings using user define function."
   ]
  },
  {
   "cell_type": "markdown",
   "metadata": {},
   "source": [
    "# Top 5 Websites to Learn Python Programming\n",
    "1. Python.org\n",
    "2. SoloLearn\n",
    "3. Real Python\n",
    "4. Datacamp\n",
    "5. learnPython.org"
   ]
  },
  {
   "cell_type": "markdown",
   "metadata": {},
   "source": [
    "# Best Coding Challenge Websites\n",
    "1. TopCoder\n",
    "2. HackerRank\n",
    "3. CodeChef\n",
    "4. LeetCode\n",
    "5. Codeforces"
   ]
  },
  {
   "cell_type": "markdown",
   "metadata": {},
   "source": [
    "# Best Python Books for Beginners & Advanced Programmers\n",
    "1. Python Crash Course\n",
    "2. Head-First Python (2nd edition)\n",
    "3. Learn Python the Hard Way (3rd Edition)\n",
    "4. Python Programming: An Introduction to Computer Science (3rd Edition)\n",
    "5. A Byte of Python"
   ]
  },
  {
   "cell_type": "markdown",
   "metadata": {},
   "source": [
    "# Best YouTube Channels to Learn Python Programming\n",
    "1. Telusko\n",
    "2. CS Dojo\n",
    "3. Corey Schafer\n",
    "4. Harshit Vashisth (Hindi)\n",
    "5. Sentdex"
   ]
  },
  {
   "cell_type": "markdown",
   "metadata": {},
   "source": [
    "# Best Instagram Account to Learn Python Programming\n",
    "1. python.learning\n",
    "2. python.hub\n",
    "3. python.instructions\n",
    "4. python.science\n"
   ]
  },
  {
   "cell_type": "markdown",
   "metadata": {},
   "source": [
    "# Reference\n",
    "1. https://www.python.org/\n",
    "2. https://pandas.pydata.org/\n",
    "3. https://numpy.org/doc/\n",
    "4. https://matplotlib.org/"
   ]
  },
  {
   "cell_type": "markdown",
   "metadata": {},
   "source": [
    "<img src=\"thank.jpeg\" alt=\"Drawing\" style=\"width: 250px;\"/> "
   ]
  }
 ],
 "metadata": {
  "kernelspec": {
   "display_name": "Python 3",
   "language": "python",
   "name": "python3"
  },
  "language_info": {
   "codemirror_mode": {
    "name": "ipython",
    "version": 3
   },
   "file_extension": ".py",
   "mimetype": "text/x-python",
   "name": "python",
   "nbconvert_exporter": "python",
   "pygments_lexer": "ipython3",
   "version": "3.7.4"
  }
 },
 "nbformat": 4,
 "nbformat_minor": 4
}
